{
 "cells": [
  {
   "cell_type": "code",
   "execution_count": 18,
   "metadata": {},
   "outputs": [
    {
     "name": "stdout",
     "output_type": "stream",
     "text": [
      "Revenue:  [14, 7, 8, 9, 8, 8, 11, 9, 10, 14, 10, 15]\n",
      "Expenses:  [12, 5, 12, 12, 8, 0, 3, 5, 6, 16, 10, 3]\n",
      "Profit:  [2, 1, -3, -2, 0, 7, 8, 3, 3, -2, 0, 11]\n",
      "PAT:  [1, 1, -2, -2, 0, 5, 5, 2, 2, -1, 0, 8]\n",
      "Profit Margin:  [12.12, 17.59, -30.14, -22.23, -5.21, 62.74, 49.99, 28.28, 22.61, -10.9, 4.31, 52.75]\n",
      "Good months boolean:  [True, False, False, False, False, True, True, True, True, False, False, True]\n",
      "Good months:  ['Jan', 'Jun', 'Jul', 'Aug', 'Sep', 'Dec']\n",
      "Bad months boolean:  [False, True, True, True, True, False, False, False, False, True, True, False]\n",
      "Bad months:  ['Feb', 'Mar', 'Apr', 'May', 'Oct', 'Nov']\n",
      "Best month:  Dec\n",
      "Worst month:  Mar\n"
     ]
    }
   ],
   "source": [
    "import numpy as np\n",
    "#Data \n",
    "revenue = [14574.49, 7606.46, 8611.41, 9175.41, 8058.65, 8105.44, 11496.28, 9766.09, 10305.32, 14379.96, 10713.97, 15433.50]\n",
    "expenses = [12051.82, 5695.07, 12319.20, 12089.72, 8658.57, 840.20, 3285.73, 5821.12, 6976.93, 16618.61, 10054.37, 3803.96]\n",
    "counter=len(revenue)\n",
    "\n",
    "profit=list(range(counter))\n",
    "pat=list(range(counter))\n",
    "pro_mgn=list(range(counter))\n",
    "isGoodMonth=list(range(counter))\n",
    "isBadMonth=list(range(counter))\n",
    "\n",
    "while counter>0:\n",
    "    profit[-counter]=round((revenue[-counter]-expenses[-counter]),2)\n",
    "    pat[-counter]=round((0.7*profit[-counter]),2)\n",
    "    pro_mgn[-counter]=round((pat[-counter]/revenue[-counter])*100,2)\n",
    "    counter-=1\n",
    "\n",
    "months=['Jan','Feb','Mar','Apr','May','Jun','Jul','Aug','Sep','Oct','Nov','Dec']\n",
    "\n",
    "goodMonths=list([])\n",
    "badMonths=list([])\n",
    "pat_arr=np.array(pat)\n",
    "mean_pat=pat_arr.mean()\n",
    "while counter<12:\n",
    "    if pat[counter]>mean_pat:\n",
    "        isGoodMonth[counter]=True\n",
    "        goodMonths.append(months[counter])\n",
    "        isBadMonth[counter]=False\n",
    "    else:\n",
    "        isGoodMonth[counter]=False\n",
    "        badMonths.append(months[counter])\n",
    "        isBadMonth[counter]=True\n",
    "    counter+=1\n",
    "\n",
    "#pat_arr=np.array(pat)\n",
    "pat_max=max(pat)\n",
    "pat_min=min(pat)\n",
    "bestMonth=pat.index(pat_max)\n",
    "worstMonth=pat.index(pat_min)\n",
    "\n",
    "#Conversion of values into thousands\n",
    "profit=[int(round((i/1000),2)) for i in profit]\n",
    "pat=[int(round((i/1000),2)) for i in pat]\n",
    "revenue=[int(round((i/1000),2)) for i in revenue]\n",
    "expenses=[int(round((i/1000),2)) for i in expenses]\n",
    "\n",
    "#Display\n",
    "print(\"Revenue: \",revenue)\n",
    "print(\"Expenses: \",expenses)\n",
    "print(\"Profit: \",profit)\n",
    "print(\"PAT: \",pat)\n",
    "print(\"Profit Margin: \",pro_mgn)\n",
    "print(\"Good months boolean: \",isGoodMonth)\n",
    "print(\"Good months: \",goodMonths)\n",
    "print(\"Bad months boolean: \",isBadMonth)\n",
    "print(\"Bad months: \",badMonths)\n",
    "print(\"Best month: \",months[bestMonth])\n",
    "print(\"Worst month: \",months[worstMonth])"
   ]
  }
 ],
 "metadata": {
  "kernelspec": {
   "display_name": "Python 3",
   "language": "python",
   "name": "python3"
  },
  "language_info": {
   "codemirror_mode": {
    "name": "ipython",
    "version": 3
   },
   "file_extension": ".py",
   "mimetype": "text/x-python",
   "name": "python",
   "nbconvert_exporter": "python",
   "pygments_lexer": "ipython3",
   "version": "3.6.4"
  }
 },
 "nbformat": 4,
 "nbformat_minor": 2
}

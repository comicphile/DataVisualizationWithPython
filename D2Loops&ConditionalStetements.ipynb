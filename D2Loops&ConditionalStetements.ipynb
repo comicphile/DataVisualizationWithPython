{
 "cells": [
  {
   "cell_type": "code",
   "execution_count": 1,
   "metadata": {},
   "outputs": [
    {
     "name": "stdout",
     "output_type": "stream",
     "text": [
      "0\n",
      "1\n",
      "2\n",
      "3\n",
      "4\n",
      "5\n",
      "6\n",
      "7\n",
      "8\n",
      "9\n",
      "Done\n"
     ]
    }
   ],
   "source": [
    "#The While Loop\n",
    "counter=0\n",
    "while counter<10:\n",
    "    print(counter)\n",
    "    counter=counter+1\n",
    "print(\"Done\")"
   ]
  },
  {
   "cell_type": "markdown",
   "metadata": {},
   "source": [
    "---"
   ]
  },
  {
   "cell_type": "code",
   "execution_count": 3,
   "metadata": {},
   "outputs": [
    {
     "name": "stdout",
     "output_type": "stream",
     "text": [
      "0\n",
      "1\n",
      "2\n",
      "3\n",
      "4\n",
      "5\n",
      "6\n",
      "7\n",
      "8\n",
      "Done\n"
     ]
    }
   ],
   "source": [
    "#The For Loop\n",
    "for counter in range(0,9):\n",
    "    print(counter)\n",
    "print(\"Done\")"
   ]
  },
  {
   "cell_type": "code",
   "execution_count": 4,
   "metadata": {},
   "outputs": [
    {
     "name": "stdout",
     "output_type": "stream",
     "text": [
      "This is  0\n",
      "This is  1\n",
      "This is  2\n",
      "This is  3\n",
      "This is  4\n",
      "This is  5\n",
      "This is  6\n",
      "This is  7\n",
      "This is  8\n",
      "This is  9\n",
      "Done\n"
     ]
    }
   ],
   "source": [
    "#Alternative way to use For loop\n",
    "myList=[0,1,2,3,4,5,6,7,8,9]\n",
    "for i in myList:\n",
    "    print(\"This is \",i)\n",
    "print(\"Done\")"
   ]
  },
  {
   "cell_type": "markdown",
   "metadata": {},
   "source": [
    "---"
   ]
  },
  {
   "cell_type": "code",
   "execution_count": 18,
   "metadata": {},
   "outputs": [
    {
     "name": "stdout",
     "output_type": "stream",
     "text": [
      "-0.46705960390513257\n",
      "None\n"
     ]
    }
   ],
   "source": [
    "#The \"If\" Statement\n",
    "import numpy as np\n",
    "from numpy.random import randn\n",
    "a=randn()\n",
    "msg=None\n",
    "if a>1:\n",
    "    msg=\"Number > 1\"\n",
    "print(a)\n",
    "print(msg)"
   ]
  },
  {
   "cell_type": "code",
   "execution_count": 26,
   "metadata": {},
   "outputs": [
    {
     "name": "stdout",
     "output_type": "stream",
     "text": [
      "1.804623388740137\n",
      "Number > 1\n"
     ]
    }
   ],
   "source": [
    "a=randn()\n",
    "msg=None\n",
    "if a>1:\n",
    "    msg=\"Number > 1\"\n",
    "else:\n",
    "    msg=\"Number <= 1\"\n",
    "print(a)\n",
    "print(msg)"
   ]
  },
  {
   "cell_type": "code",
   "execution_count": 36,
   "metadata": {},
   "outputs": [
    {
     "name": "stdout",
     "output_type": "stream",
     "text": [
      "0.03199455223925665\n",
      "Number between -1 and 1\n"
     ]
    }
   ],
   "source": [
    "#Nested if statements\n",
    "a=randn()\n",
    "msg=None\n",
    "if a>1:\n",
    "    msg=\"Number > 1\"\n",
    "else:\n",
    "    if a>-1:\n",
    "        msg=\"Number between -1 and 1\"\n",
    "    else:\n",
    "        msg=\"Number < -1\"\n",
    "print(a)\n",
    "print(msg)"
   ]
  },
  {
   "cell_type": "code",
   "execution_count": 46,
   "metadata": {},
   "outputs": [
    {
     "name": "stdout",
     "output_type": "stream",
     "text": [
      "-1.2026708933831003\n",
      "Number < -1\n"
     ]
    }
   ],
   "source": [
    "#Chained statements\n",
    "a=randn()\n",
    "msg=None\n",
    "if a>1:\n",
    "    msg=\"Number > 1\"\n",
    "elif a>-1:\n",
    "    msg=\"Number between -1 and 1\"\n",
    "else:\n",
    "    msg=\"Number < -1\"\n",
    "print(a)\n",
    "print(msg)"
   ]
  }
 ],
 "metadata": {
  "kernelspec": {
   "display_name": "Python 3",
   "language": "python",
   "name": "python3"
  },
  "language_info": {
   "codemirror_mode": {
    "name": "ipython",
    "version": 3
   },
   "file_extension": ".py",
   "mimetype": "text/x-python",
   "name": "python",
   "nbconvert_exporter": "python",
   "pygments_lexer": "ipython3",
   "version": "3.6.4"
  }
 },
 "nbformat": 4,
 "nbformat_minor": 2
}

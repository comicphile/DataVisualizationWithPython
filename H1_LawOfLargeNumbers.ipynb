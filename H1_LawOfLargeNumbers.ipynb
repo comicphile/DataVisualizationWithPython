{
 "cells": [
  {
   "cell_type": "code",
   "execution_count": 29,
   "metadata": {},
   "outputs": [
    {
     "name": "stdout",
     "output_type": "stream",
     "text": [
      "a=  0.33960364293201095\n",
      "a=  -1.5867072063041918\n",
      "a=  1.239474586192376\n",
      "a=  -0.9417695702599632\n",
      "a=  -1.0635503784402962\n",
      "counter=  2\n",
      "0.4\n"
     ]
    }
   ],
   "source": [
    "import numpy as np\n",
    "from numpy.random import randn\n",
    "n=0\n",
    "a=0\n",
    "counter=0\n",
    "while n<5:\n",
    "    a=randn()\n",
    "    print(\"a= \",a)\n",
    "    if a>-1 and a<1:\n",
    "        counter=counter+1\n",
    "    n=n+1\n",
    "print(\"counter= \",counter)\n",
    "res=counter/n\n",
    "print(res)"
   ]
  },
  {
   "cell_type": "markdown",
   "metadata": {},
   "source": [
    "---"
   ]
  },
  {
   "cell_type": "code",
   "execution_count": 24,
   "metadata": {},
   "outputs": [
    {
     "name": "stdout",
     "output_type": "stream",
     "text": [
      "a=  -1.0706048352961892\n",
      "a=  -0.9144932455554545\n",
      "a=  -2.8496389468479584\n",
      "a=  1.2674141386725701\n",
      "a=  -0.16611778293550883\n",
      "a=  -2.490296035933573\n",
      "a=  -0.22155963901916972\n",
      "a=  -0.9200124070190485\n",
      "a=  -0.4687453917035323\n",
      "a=  0.7140324017833324\n",
      "counter=  6\n",
      "0.6\n"
     ]
    }
   ],
   "source": [
    "import numpy as np\n",
    "from numpy.random import randn\n",
    "n=0\n",
    "a=0\n",
    "counter=0\n",
    "while n<10:\n",
    "    a=randn()\n",
    "    print(\"a= \",a)\n",
    "    if a>-1 and a<1:\n",
    "        counter=counter+1\n",
    "    n=n+1\n",
    "print(\"counter= \",counter)\n",
    "res=counter/n\n",
    "print(res)"
   ]
  },
  {
   "cell_type": "markdown",
   "metadata": {},
   "source": [
    "---"
   ]
  },
  {
   "cell_type": "code",
   "execution_count": 25,
   "metadata": {},
   "outputs": [
    {
     "name": "stdout",
     "output_type": "stream",
     "text": [
      "counter=  63\n",
      "0.63\n"
     ]
    }
   ],
   "source": [
    "import numpy as np\n",
    "from numpy.random import randn\n",
    "n=0\n",
    "a=0\n",
    "counter=0\n",
    "while n<100:\n",
    "    a=randn()\n",
    "    #print(\"a= \",a)\n",
    "    if a>-1 and a<1:\n",
    "        counter=counter+1\n",
    "    n=n+1\n",
    "print(\"counter= \",counter)\n",
    "res=counter/n\n",
    "print(res)"
   ]
  },
  {
   "cell_type": "markdown",
   "metadata": {},
   "source": [
    "---"
   ]
  },
  {
   "cell_type": "code",
   "execution_count": 26,
   "metadata": {},
   "outputs": [
    {
     "name": "stdout",
     "output_type": "stream",
     "text": [
      "counter=  658\n",
      "0.658\n"
     ]
    }
   ],
   "source": [
    "import numpy as np\n",
    "from numpy.random import randn\n",
    "n=0\n",
    "a=0\n",
    "counter=0\n",
    "while n<1000:\n",
    "    a=randn()\n",
    "    #print(\"a= \",a)\n",
    "    if a>-1 and a<1:\n",
    "        counter=counter+1\n",
    "    n=n+1\n",
    "print(\"counter= \",counter)\n",
    "res=counter/n\n",
    "print(res)"
   ]
  },
  {
   "cell_type": "code",
   "execution_count": 30,
   "metadata": {},
   "outputs": [
    {
     "name": "stdout",
     "output_type": "stream",
     "text": [
      "counter=  6777\n",
      "0.6777\n"
     ]
    }
   ],
   "source": [
    "import numpy as np\n",
    "from numpy.random import randn\n",
    "n=0\n",
    "a=0\n",
    "counter=0\n",
    "while n<10000:\n",
    "    a=randn()\n",
    "    #print(\"a= \",a)\n",
    "    if a>-1 and a<1:\n",
    "        counter=counter+1\n",
    "    n=n+1\n",
    "print(\"counter= \",counter)\n",
    "res=counter/n\n",
    "print(res)"
   ]
  },
  {
   "cell_type": "markdown",
   "metadata": {},
   "source": [
    "---"
   ]
  },
  {
   "cell_type": "code",
   "execution_count": 31,
   "metadata": {},
   "outputs": [],
   "source": [
    "#As expected, with a multiplicative increase in sample size of generated numbers, the portion(% of generated \n",
    "#numbers in range of -1 to 1) approaches 0.682(68.2%), in accordance with the normal distribution"
   ]
  },
  {
   "cell_type": "markdown",
   "metadata": {},
   "source": [
    "---"
   ]
  },
  {
   "cell_type": "code",
   "execution_count": 41,
   "metadata": {},
   "outputs": [
    {
     "name": "stdout",
     "output_type": "stream",
     "text": [
      "counter=  68520\n",
      "0.6852\n"
     ]
    }
   ],
   "source": [
    "#Alternative way, using 'for' loop\n",
    "import numpy as np\n",
    "from numpy.random import randn\n",
    "counter=0\n",
    "n=100000\n",
    "for i in randn(n):\n",
    "    if(i>-1 and i<1):\n",
    "        counter=counter+1\n",
    "print(\"counter= \",counter)\n",
    "res=counter/n\n",
    "print(res)"
   ]
  }
 ],
 "metadata": {
  "kernelspec": {
   "display_name": "Python 3",
   "language": "python",
   "name": "python3"
  },
  "language_info": {
   "codemirror_mode": {
    "name": "ipython",
    "version": 3
   },
   "file_extension": ".py",
   "mimetype": "text/x-python",
   "name": "python",
   "nbconvert_exporter": "python",
   "pygments_lexer": "ipython3",
   "version": "3.6.4"
  }
 },
 "nbformat": 4,
 "nbformat_minor": 2
}
